{
 "cells": [
  {
   "cell_type": "code",
   "execution_count": null,
   "id": "721f7fa5",
   "metadata": {},
   "outputs": [],
   "source": [
    "import pathlib\n",
    "\n",
    "import astropy.coordinates as coord\n",
    "import astropy.table as at\n",
    "import astropy.units as u\n",
    "import matplotlib as mpl\n",
    "import matplotlib.pyplot as plt\n",
    "%matplotlib inline\n",
    "import numpy as np\n",
    "import h5py\n",
    "from tqdm.auto import tqdm\n",
    "\n",
    "import gala.dynamics as gd\n",
    "\n",
    "import sys\n",
    "if '../scripts' not in sys.path:\n",
    "    sys.path.append('../scripts')\n",
    "from streamsubhalosim import get_in_stream_frame, get_stream_track\n",
    "from streamsubhaloplot import plot_sky_projections"
   ]
  },
  {
   "cell_type": "markdown",
   "id": "be9b6221",
   "metadata": {},
   "source": [
    "# Load simulation metadata / summary file:"
   ]
  },
  {
   "cell_type": "code",
   "execution_count": null,
   "id": "e1756db0",
   "metadata": {},
   "outputs": [],
   "source": [
    "meta_path = pathlib.Path(\"../cache/dist-20kpc-gallery/stream-sims-metadata.fits\")\n",
    "allpars = at.QTable.read(meta_path)"
   ]
  },
  {
   "cell_type": "code",
   "execution_count": null,
   "id": "3d61c3cc",
   "metadata": {},
   "outputs": [],
   "source": [
    "fid_pars = allpars[0]\n",
    "fid_pars"
   ]
  },
  {
   "cell_type": "markdown",
   "id": "864dbc7e",
   "metadata": {},
   "source": [
    "# Load unperturbed stream:"
   ]
  },
  {
   "cell_type": "code",
   "execution_count": null,
   "id": "4ccb3454",
   "metadata": {},
   "outputs": [],
   "source": [
    "with h5py.File(\"../cache/dist-20kpc-gallery/sims/stream-sim-init.hdf5\", mode=\"r\") as f:\n",
    "    init_stream = gd.PhaseSpacePosition.from_hdf5(f[\"stream\"])\n",
    "    init_prog = gd.PhaseSpacePosition.from_hdf5(f[\"prog\"])\n",
    "    impact = gd.PhaseSpacePosition.from_hdf5(f[\"impact_site\"])"
   ]
  },
  {
   "cell_type": "code",
   "execution_count": null,
   "id": "442f5c5a",
   "metadata": {},
   "outputs": [],
   "source": [
    "init_stream_sfr = get_in_stream_frame(init_stream, prog=init_prog, impact=impact)\n",
    "stream_frame = init_stream_sfr.replicate_without_data()\n",
    "tracks = get_stream_track(init_stream_sfr, lon_lim=(-45, 45))"
   ]
  },
  {
   "cell_type": "markdown",
   "id": "f295bfd1",
   "metadata": {},
   "source": [
    "# Load models for components of gallery"
   ]
  },
  {
   "cell_type": "code",
   "execution_count": null,
   "id": "e4271a83",
   "metadata": {},
   "outputs": [],
   "source": [
    "K = 5\n",
    "gallery_pars = ['M_subhalo', 'dens_fac', 'impact_b_fac', 'vphi', 't_post_impact']\n",
    "all_par_names = gallery_pars + ['vz', 'phi']\n",
    "M = len(gallery_pars)\n",
    "\n",
    "unique_vals = {k: np.unique(allpars[k]) for k in gallery_pars}\n",
    "for k, v in unique_vals.items():\n",
    "    assert len(v) == K\n",
    "unique_vals"
   ]
  },
  {
   "cell_type": "markdown",
   "id": "6200c9ae",
   "metadata": {},
   "source": [
    "# Plot fiducial stream"
   ]
  },
  {
   "cell_type": "code",
   "execution_count": null,
   "id": "189748cb",
   "metadata": {},
   "outputs": [],
   "source": [
    "and_args = [np.isclose(allpars[par], fid_pars[par]) for par in all_par_names]\n",
    "(row_i,) = np.where(np.logical_and.reduce(and_args))[0]\n",
    "row = allpars[row_i]\n",
    "\n",
    "with h5py.File(row[\"filename\"], mode=\"r\") as f:\n",
    "    stream = gd.PhaseSpacePosition.from_hdf5(f[\"stream\"])\n",
    "    stream_sfr = stream.to_coord_frame(stream_frame)\n",
    "plot_sky_projections(\n",
    "    stream_sfr,\n",
    "    tracks=tracks,\n",
    "    annotate_impact=False,\n",
    "    xlim=(-45, 45),\n",
    ")"
   ]
  },
  {
   "cell_type": "code",
   "execution_count": null,
   "id": "36867a09",
   "metadata": {},
   "outputs": [],
   "source": [
    "par_to_label = {\n",
    "    \"M_subhalo\": r\"M_{\\bullet}\",\n",
    "    \"dens_fac\": r\"f_{\\rho}\",\n",
    "    \"impact_b_fac\": r\"f_b\",\n",
    "    \"vphi\": r\"v_{\\phi}\",\n",
    "    \"t_post_impact\": r\"\\delta t\"\n",
    "}\n",
    "\n",
    "par_to_desc = {\n",
    "    \"M_subhalo\": \"subhalo mass\",\n",
    "    \"dens_fac\": \"subhalo density\\n enhancement factor\",\n",
    "    \"impact_b_fac\": \"impact parameter\\n(units of scale radius)\",\n",
    "    \"vphi\": \"velocity perpendicular\\n to stream\",\n",
    "    \"t_post_impact\": \"time since impact\"\n",
    "}"
   ]
  },
  {
   "cell_type": "code",
   "execution_count": null,
   "id": "c539631d",
   "metadata": {},
   "outputs": [],
   "source": [
    "component = \"phi2\"\n",
    "ylabel = \"stream latitude deviation\\n\" + f\"[deg]\"\n",
    "ylim = (-1.5, 1.5)\n",
    "yticks = np.arange(-1.5, 1.5 + 1e-3, 0.5)\n",
    "\n",
    "# component = \"pm_phi1_cosphi2\"\n",
    "# ylabel = \"stream proper motion deviation\\n\" + f\"[{u.mas/u.yr:latex_inline}]\"\n",
    "# ylim = (-0.07, 0.07)\n",
    "# yticks = np.arange(-0.06, 0.06 + 1e-3, 0.02)\n",
    "\n",
    "# component = \"radial_velocity\"\n",
    "# ylabel = \"radial velocity deviation\\n\" + f\"[{u.km/u.s:latex_inline}]\"\n",
    "# ylim = (-7, 7)\n",
    "# yticks = np.arange(-6, 6 + 1, 2)\n",
    "\n",
    "# ---\n",
    "\n",
    "cmaps = [\"Purples\", \"Blues\", \"Greens\", \"Oranges\", \"Reds\"]\n",
    "\n",
    "fig, axes = plt.subplots(\n",
    "    K, M, figsize=(5 * M, 3 * K + 1), sharex=True, sharey=True, constrained_layout=True\n",
    ")\n",
    "\n",
    "for m, axcol in enumerate(axes.T):\n",
    "    col_par = gallery_pars[m]\n",
    "\n",
    "    axcol[0].set_title(f\"{par_to_desc[col_par]}\\n${par_to_label[col_par]}$\")\n",
    "    for k, ax in enumerate(axcol):\n",
    "        if k == 2:\n",
    "            cmap = \"Greys\"\n",
    "            alpha = 1.0\n",
    "        else:\n",
    "            cmap = cmaps[m]\n",
    "            alpha = 0.7\n",
    "\n",
    "        and_args = [\n",
    "            np.isclose(allpars[par], fid_pars[par])\n",
    "            if par != gallery_pars[m]\n",
    "            else np.isclose(allpars[par], unique_vals[par][k])\n",
    "            for par in all_par_names\n",
    "        ]\n",
    "        (row_i,) = np.where(np.logical_and.reduce(and_args))[0]\n",
    "        row = allpars[row_i]\n",
    "\n",
    "        with h5py.File(row[\"filename\"], mode=\"r\") as f:\n",
    "            stream = gd.PhaseSpacePosition.from_hdf5(f[\"stream\"])\n",
    "        stream_sfr = stream.to_coord_frame(stream_frame)\n",
    "        plot_sky_projections(\n",
    "            stream_sfr,\n",
    "            tracks=tracks,\n",
    "            components=[component],\n",
    "            axes=[ax],\n",
    "            annotate_impact=False,\n",
    "            xlim=(-15, 15),\n",
    "            hist2d_n_xbins=121,\n",
    "            hist2d_n_ybins=121,\n",
    "            xlabel=False,\n",
    "            ylabel=False,\n",
    "            hist2d_kwargs=dict(cmap=cmap, alpha=alpha, zorder=100, rasterized=True),\n",
    "        )\n",
    "\n",
    "        par_val = unique_vals[gallery_pars[m]][k]\n",
    "        if col_par == \"M_subhalo\":\n",
    "            val_str = (\n",
    "                f\"10^{{{np.log10(par_val.value):.1f}}}~\"\n",
    "                + (f\"{u.Msun:latex_inline}\")[1:-1]\n",
    "            )\n",
    "        elif col_par in [\"vphi\", \"t_post_impact\"]:\n",
    "            val_str = f\"{par_val.value:.0f}~\" + (f\"{par_val.unit:latex_inline}\")[1:-1]\n",
    "        elif col_par == \"dens_fac\":\n",
    "            val_str = f\"{1/par_val:.2f}\"\n",
    "        else:\n",
    "            val_str = f\"{par_val:.1f}\"\n",
    "        ax.text(\n",
    "            -13,\n",
    "            ylim[1] * 0.83,\n",
    "            f\"${par_to_label[col_par]} = {val_str}$\",\n",
    "            ha=\"left\",\n",
    "            va=\"top\",\n",
    "            fontsize=18,\n",
    "        )\n",
    "\n",
    "for ax in axes.flat:\n",
    "    ax.grid(which=\"major\", color=\"#aaaaaa\", alpha=0.5, zorder=-100)\n",
    "\n",
    "axes[2, 0].set_ylabel(ylabel)\n",
    "axes[-1, 2].set_xlabel(\"stream longitude\\n\" + \"[deg]\")\n",
    "\n",
    "ax.set(\n",
    "    xlim=(-15, 15),\n",
    "    ylim=ylim,\n",
    "    xticks=np.arange(-15, 15 + 1, 5),\n",
    "    yticks=yticks,\n",
    ");\n",
    "\n",
    "fig.savefig(f\"../tex/figures/stream-gallery-{component}.pdf\", dpi=250)"
   ]
  },
  {
   "cell_type": "code",
   "execution_count": null,
   "id": "bfecc180",
   "metadata": {},
   "outputs": [],
   "source": []
  }
 ],
 "metadata": {
  "kernelspec": {
   "display_name": "apw-py310",
   "language": "python",
   "name": "apw-py310"
  },
  "language_info": {
   "codemirror_mode": {
    "name": "ipython",
    "version": 3
   },
   "file_extension": ".py",
   "mimetype": "text/x-python",
   "name": "python",
   "nbconvert_exporter": "python",
   "pygments_lexer": "ipython3",
   "version": "3.10.8"
  },
  "toc": {
   "base_numbering": 1,
   "nav_menu": {},
   "number_sections": true,
   "sideBar": true,
   "skip_h1_title": false,
   "title_cell": "Table of Contents",
   "title_sidebar": "Contents",
   "toc_cell": false,
   "toc_position": {},
   "toc_section_display": true,
   "toc_window_display": false
  }
 },
 "nbformat": 4,
 "nbformat_minor": 5
}
