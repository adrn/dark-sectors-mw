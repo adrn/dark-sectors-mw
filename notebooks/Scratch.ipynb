{
 "cells": [
  {
   "cell_type": "code",
   "execution_count": null,
   "metadata": {},
   "outputs": [],
   "source": [
    "import astropy.coordinates as coord\n",
    "import astropy.table as at\n",
    "import astropy.units as u\n",
    "import matplotlib as mpl\n",
    "import matplotlib.pyplot as plt\n",
    "%matplotlib inline\n",
    "import numpy as np\n",
    "from IPython import display\n",
    "from scipy.spatial import cKDTree\n",
    "\n",
    "# gala\n",
    "import gala.coordinates as gc\n",
    "import gala.dynamics as gd\n",
    "import gala.integrate as gi\n",
    "import gala.potential as gp\n",
    "from gala.units import galactic\n",
    "from gala.dynamics import mockstream as ms\n",
    "\n",
    "from scipy.ndimage import gaussian_filter1d\n",
    "from scipy.interpolate import InterpolatedUnivariateSpline\n",
    "import h5py\n",
    "\n",
    "import sys\n",
    "if '../scripts' not in sys.path:\n",
    "    sys.path.append('../scripts')\n",
    "from streamsubhalosim import get_in_stream_frame, get_stream_track"
   ]
  },
  {
   "cell_type": "code",
   "execution_count": null,
   "metadata": {},
   "outputs": [],
   "source": [
    "pot = gp.NFWPotential.from_circular_velocity(v_c=220*u.km/u.s,\n",
    "                                             r_s=15*u.kpc,\n",
    "                                             units=galactic)\n",
    "prog_w0 = gd.PhaseSpacePosition(pos=[10, 0, 0.] * u.kpc,\n",
    "                                vel=[0, 170, 0.] * u.km/u.s)"
   ]
  },
  {
   "cell_type": "code",
   "execution_count": null,
   "metadata": {},
   "outputs": [],
   "source": [
    "# df = ms.LagrangeCloudStreamDF(v_disp=1*u.km/u.s)\n",
    "df = ms.FardalStreamDF()\n",
    "gen = ms.MockStreamGenerator(df, gp.Hamiltonian(pot))"
   ]
  },
  {
   "cell_type": "code",
   "execution_count": null,
   "metadata": {},
   "outputs": [],
   "source": [
    "stream, prog = gen.run(\n",
    "    prog_w0, 1e5*u.Msun,\n",
    "    dt=-0.5 * u.Myr, n_steps=6000, n_particles=4\n",
    ")"
   ]
  },
  {
   "cell_type": "code",
   "execution_count": null,
   "metadata": {},
   "outputs": [],
   "source": [
    "stream.plot(['x', 'y']);"
   ]
  },
  {
   "cell_type": "code",
   "execution_count": null,
   "metadata": {},
   "outputs": [],
   "source": [
    "stream_gal = stream.to_coord_frame(coord.Galactic())"
   ]
  },
  {
   "cell_type": "code",
   "execution_count": null,
   "metadata": {},
   "outputs": [],
   "source": [
    "fig, axes = plt.subplots(\n",
    "    5, 1, figsize=(16, 20), sharex=True, constrained_layout=True\n",
    ")\n",
    "\n",
    "lon = stream_gal.l.wrap_at(180*u.deg).degree\n",
    "comps = [\"b\", \"distance\", \"pm_l_cosb\", \"pm_b\", \"radial_velocity\"]\n",
    "for ax, comp in zip(axes, comps):\n",
    "    ax.hist2d(\n",
    "        lon,\n",
    "        getattr(stream_gal, comp).value,\n",
    "        bins=(np.linspace(-30, 30, 512), 151),\n",
    "        norm=mpl.colors.LogNorm(vmin=0.1),\n",
    "        cmap=\"Greys\",\n",
    "    )\n",
    "    ax.set_ylabel(comp)"
   ]
  },
  {
   "cell_type": "code",
   "execution_count": null,
   "metadata": {},
   "outputs": [],
   "source": []
  },
  {
   "cell_type": "code",
   "execution_count": null,
   "metadata": {},
   "outputs": [],
   "source": []
  },
  {
   "cell_type": "code",
   "execution_count": null,
   "metadata": {},
   "outputs": [],
   "source": [
    "with h5py.File(\"../cache/stream-sims.hdf5\", \"r\") as f:\n",
    "    stream = gd.PhaseSpacePosition.from_hdf5(f['init/stream'])\n",
    "    impact_site = gd.PhaseSpacePosition.from_hdf5(f['init/impact_site'])"
   ]
  },
  {
   "cell_type": "code",
   "execution_count": null,
   "metadata": {},
   "outputs": [],
   "source": [
    "stream_sfr = get_in_stream_frame(stream, impact_site)\n",
    "tracks = get_stream_track(stream_sfr, lon_lim=(-45, 45), plot_debug=True)"
   ]
  },
  {
   "cell_type": "code",
   "execution_count": null,
   "metadata": {},
   "outputs": [],
   "source": []
  },
  {
   "attachments": {},
   "cell_type": "markdown",
   "metadata": {},
   "source": [
    "---"
   ]
  },
  {
   "cell_type": "code",
   "execution_count": null,
   "metadata": {},
   "outputs": [],
   "source": [
    "# Third-party\n",
    "import astropy.units as u\n",
    "import matplotlib.pyplot as plt\n",
    "from matplotlib.animation import FuncAnimation\n",
    "import numpy as np\n",
    "%matplotlib inline\n",
    "\n",
    "# Custom\n",
    "import gala.coordinates as gc\n",
    "import gala.dynamics as gd\n",
    "import gala.integrate as gi\n",
    "import gala.potential as gp\n",
    "from gala.units import galactic, UnitSystem\n",
    "\n",
    "from gala.dynamics.nbody import DirectNBody"
   ]
  },
  {
   "cell_type": "code",
   "execution_count": null,
   "metadata": {},
   "outputs": [],
   "source": [
    "nblob = 4096\n",
    "\n",
    "blob_xyz = np.zeros((3, nblob)) * u.pc\n",
    "blob_xyz[0] = np.linspace(-100, 100, nblob) * u.pc\n",
    "\n",
    "blob_vxyz = np.zeros((3, nblob)) * u.km/u.s\n",
    "blob_vy = 1. * u.km/u.s\n",
    "blob_vxyz[0] = blob_vy\n",
    "\n",
    "blob_w0 = gd.PhaseSpacePosition(pos=blob_xyz, vel=blob_vxyz)"
   ]
  },
  {
   "cell_type": "code",
   "execution_count": null,
   "metadata": {},
   "outputs": [],
   "source": [
    "perturber_w0 = gd.PhaseSpacePosition(pos=[0, 0, 0] * u.pc,\n",
    "                                     vel=[0, 5, 0] * u.pc/u.Myr)"
   ]
  },
  {
   "cell_type": "code",
   "execution_count": null,
   "metadata": {},
   "outputs": [],
   "source": [
    "# w0 = gd.combine((perturber_w0, blob_w0)) # at time of impact\n",
    "w0 = gd.combine((blob_w0, perturber_w0)) # at time of impact"
   ]
  },
  {
   "cell_type": "code",
   "execution_count": null,
   "metadata": {},
   "outputs": [],
   "source": [
    "ext_pot = gp.NullPotential(units=galactic)\n",
    "w0_back = ext_pot.integrate_orbit(w0, dt=-0.1*u.Myr, t1=0, t2=-20*u.Myr)[-1]"
   ]
  },
  {
   "cell_type": "code",
   "execution_count": null,
   "metadata": {},
   "outputs": [],
   "source": [
    "# pps = [gp.HernquistPotential(m=1e2*u.Msun, c=0.1*u.pc, units=galactic)] + [None] * nblob\n",
    "pps = [None] * nblob + [gp.HernquistPotential(m=1e2*u.Msun, c=0.1*u.pc, units=galactic)]"
   ]
  },
  {
   "cell_type": "code",
   "execution_count": null,
   "metadata": {},
   "outputs": [],
   "source": [
    "nbody = DirectNBody(w0_back, pps, save_all=False)\n",
    "orbits = nbody.integrate_orbit(dt=0.1*u.Myr, t1=-20*u.Myr, t2=100*u.Myr)"
   ]
  },
  {
   "cell_type": "code",
   "execution_count": null,
   "metadata": {},
   "outputs": [],
   "source": [
    "orbits.plot();"
   ]
  },
  {
   "cell_type": "code",
   "execution_count": null,
   "metadata": {},
   "outputs": [],
   "source": []
  }
 ],
 "metadata": {
  "kernelspec": {
   "display_name": "apw-py310",
   "language": "python",
   "name": "apw-py310"
  },
  "language_info": {
   "codemirror_mode": {
    "name": "ipython",
    "version": 3
   },
   "file_extension": ".py",
   "mimetype": "text/x-python",
   "name": "python",
   "nbconvert_exporter": "python",
   "pygments_lexer": "ipython3",
   "version": "3.10.8"
  }
 },
 "nbformat": 4,
 "nbformat_minor": 2
}
