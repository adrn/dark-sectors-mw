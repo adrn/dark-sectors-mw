{
 "cells": [
  {
   "cell_type": "code",
   "execution_count": null,
   "id": "d92f3a2f",
   "metadata": {},
   "outputs": [],
   "source": [
    "import astropy.coordinates as coord\n",
    "import astropy.units as u\n",
    "import matplotlib as mpl\n",
    "import matplotlib.pyplot as plt\n",
    "\n",
    "%matplotlib inline\n",
    "import numpy as np\n",
    "\n",
    "# gala\n",
    "import gala.coordinates as gc\n",
    "import gala.dynamics as gd\n",
    "import gala.potential as gp\n",
    "from gala.units import galactic\n",
    "\n",
    "import sys\n",
    "\n",
    "if \"../scripts\" not in sys.path:\n",
    "    sys.path.append(\"../scripts\")\n",
    "from streamsubhalosim import (\n",
    "    get_in_stream_frame,\n",
    "    StreamSubhaloSimulation,\n",
    "    get_stream_track,\n",
    "    get_new_basis,\n",
    "    get_subhalo_w0,\n",
    ")\n",
    "from streamsubhaloplot import plot_sky_projections"
   ]
  },
  {
   "cell_type": "code",
   "execution_count": null,
   "id": "b123726e",
   "metadata": {},
   "outputs": [],
   "source": [
    "mw = gp.load('/Users/apricewhelan/projects/gaia-actions/potentials/MilkyWayPotential2022.yml')"
   ]
  },
  {
   "cell_type": "code",
   "execution_count": null,
   "id": "209b1f98",
   "metadata": {},
   "outputs": [],
   "source": [
    "dist = 20.\n",
    "pos = [-8+20, 0, 0] * u.kpc\n",
    "vcirc = mw.circular_velocity(pos)[0]\n",
    "wf = gd.PhaseSpacePosition(pos=pos, vel=[0, 1.3, 0] * vcirc)"
   ]
  },
  {
   "cell_type": "code",
   "execution_count": null,
   "id": "d8232841",
   "metadata": {},
   "outputs": [],
   "source": [
    "sim = StreamSubhaloSimulation(\n",
    "    mw_potential=mw,\n",
    "    final_prog_w=wf,\n",
    "    M_stream=5e4 * u.Msun,\n",
    "    t_post_impact=0 * u.Myr,\n",
    "    t_pre_impact=6 * u.Gyr,\n",
    "    dt=0.5 * u.Myr,\n",
    "    n_particles=2,\n",
    "    seed=42,\n",
    ")"
   ]
  },
  {
   "cell_type": "code",
   "execution_count": null,
   "id": "9e99fb76",
   "metadata": {},
   "outputs": [],
   "source": [
    "init_stream, init_prog = sim.run_init_stream()\n",
    "impact_site = sim.get_impact_site(init_stream, init_prog)"
   ]
  },
  {
   "cell_type": "code",
   "execution_count": null,
   "id": "ef511a38",
   "metadata": {},
   "outputs": [],
   "source": [
    "R = get_new_basis(\n",
    "    impact_site.xyz.value,\n",
    "    impact_site.v_xyz.value\n",
    ")"
   ]
  },
  {
   "cell_type": "code",
   "execution_count": null,
   "id": "d6a45d4e",
   "metadata": {},
   "outputs": [],
   "source": [
    "# make subhalo orbit from impact site - dx and dz, but with impact parameter b\n",
    "b = 250 * u.pc\n",
    "subhalo_w0 = get_subhalo_w0(\n",
    "    impact_site, b=b, phi=90 * u.deg, vphi=100 * u.km / u.s, vz=0 * u.km / u.s\n",
    ")\n",
    "\n",
    "o1 = mw.integrate_orbit(subhalo_w0, dt=-0.1 * u.Myr, t1=0, t2=-50 * u.Myr)\n",
    "o2 = mw.integrate_orbit(subhalo_w0, dt=0.1 * u.Myr, t1=0, t2=50 * u.Myr)\n",
    "o1 = o1[::-1]\n",
    "o2 = o2[1:]\n",
    "\n",
    "subhalo_orbit = gd.Orbit(\n",
    "    np.hstack((o1.xyz, o2.xyz)),\n",
    "    np.hstack((o1.v_xyz, o2.v_xyz)),\n",
    "    t=np.concatenate((o1.t, o2.t)),\n",
    "    frame=o1.frame\n",
    ")"
   ]
  },
  {
   "cell_type": "code",
   "execution_count": null,
   "id": "404b52e1",
   "metadata": {},
   "outputs": [],
   "source": [
    "frame = gp.ConstantRotatingFrame(\n",
    "    [0, 0, 1]\n",
    "    * impact_site.cylindrical.pm_phi.to(u.km / u.s / u.kpc, u.dimensionless_angles()), \n",
    "    units=galactic\n",
    ")"
   ]
  },
  {
   "cell_type": "code",
   "execution_count": null,
   "id": "65484892",
   "metadata": {},
   "outputs": [],
   "source": [
    "subhalo_orbit.to_frame(frame).plot(color='tab:red');"
   ]
  },
  {
   "cell_type": "code",
   "execution_count": null,
   "id": "3f57889a",
   "metadata": {},
   "outputs": [],
   "source": [
    "_dx = subhalo_orbit.xyz.T - impact_site.xyz.T\n",
    "i = np.linalg.norm(_dx, axis=1).argmin()\n",
    "assert np.abs(subhalo_orbit.t[i]) < 1*u.Myr\n",
    "_dx[i]"
   ]
  },
  {
   "cell_type": "code",
   "execution_count": null,
   "id": "a4928616",
   "metadata": {},
   "outputs": [],
   "source": [
    "fig = init_stream.plot();\n",
    "subhalo_orbit.plot(axes=fig.axes, color='tab:purple');"
   ]
  },
  {
   "cell_type": "code",
   "execution_count": null,
   "id": "77c79457",
   "metadata": {},
   "outputs": [],
   "source": [
    "stream_style = dict(\n",
    "    marker=\"o\",\n",
    "    linestyle=\"none\",\n",
    "    mew=0,\n",
    "    alpha=0.5,\n",
    "    ms=1,\n",
    "    color=\"#aaaaaa\",\n",
    "    rasterized=True,\n",
    ")\n",
    "basis_style = dict(\n",
    "    ha=\"center\",\n",
    "    va=\"center\",\n",
    "    arrowprops=dict(arrowstyle=\"<-\", lw=1.5, color=\"k\", shrinkA=0, shrinkB=0),\n",
    "    fontsize=18,\n",
    "    zorder=100,\n",
    ")\n",
    "subhalo_orbit_style = dict(\n",
    "    color=\"tab:purple\", autolim=False, auto_aspect=False, labels=None\n",
    ")\n",
    "subhalo_style = dict(\n",
    "    marker=\"o\",\n",
    "    s=15,\n",
    "    color=\"tab:purple\",\n",
    "    autolim=False,\n",
    "    auto_aspect=False,\n",
    "    zorder=200,\n",
    "    units=u.kpc,\n",
    "    labels=None,\n",
    ")\n",
    "\n",
    "fig, axes = plt.subplots(1, 2, figsize=(11, 5), constrained_layout=True)\n",
    "\n",
    "x0 = impact_site.x.to_value(u.kpc)\n",
    "y0 = impact_site.y.to_value(u.kpc)\n",
    "z0 = impact_site.z.to_value(u.kpc)\n",
    "h = 0.75\n",
    "xhat, yhat, zhat = R.T * 0.6\n",
    "\n",
    "# ---\n",
    "axes[0].set(\n",
    "    xlim=(0, 24),\n",
    "    ylim=(-12, 12),\n",
    "    xlabel=\"stream orbital plane $x$ [kpc]\",\n",
    "    ylabel=\"stream orbital plane $y$ [kpc]\",\n",
    ")\n",
    "\n",
    "axins = axes[0].inset_axes([13, 1, 10, 10], transform=axes[0].transData, zorder=100)\n",
    "axins.set(xlim=(x0 - h, x0 + h), ylim=(y0 - h, y0 + h))\n",
    "axins.xaxis.set_visible(False)\n",
    "axins.yaxis.set_visible(False)\n",
    "axes[0].indicate_inset_zoom(axins, edgecolor=\"tab:blue\")\n",
    "for k, sp in axins.spines.items():\n",
    "    sp.set_color(\"tab:blue\")\n",
    "\n",
    "for ax, ms in zip([axes[0], axins], [4, 10]):\n",
    "    ax.plot(\n",
    "        init_stream.x.to_value(u.kpc), init_stream.y.to_value(u.kpc), **stream_style\n",
    "    )\n",
    "    ax.plot(x0, y0, marker=\"x\", ms=ms, mew=2, zorder=50, color=\"tab:red\")\n",
    "    subhalo_orbit.plot([\"x\", \"y\"], axes=[ax], **subhalo_orbit_style)\n",
    "    subhalo_w0.plot([\"x\", \"y\"], axes=[ax], **subhalo_style)\n",
    "\n",
    "ax = axins\n",
    "ax.annotate(r\"$\\hat{y}_s$\", (x0, y0), (x0 + yhat[0], y0 + yhat[1]), **basis_style)\n",
    "ax.annotate(r\"$\\hat{z}_s$\", (x0, y0), (x0 + zhat[0], y0 + zhat[1]), **basis_style)\n",
    "\n",
    "axes[0].text(\n",
    "    x0 - 1.2 * h,\n",
    "    y0,\n",
    "    \"impact site\",\n",
    "    ha=\"right\",\n",
    "    va=\"center\",\n",
    "    fontsize=15,\n",
    "    color=\"tab:red\",\n",
    ")\n",
    "axes[0].text(\n",
    "    x0 + 1.2 * h,\n",
    "    -y0,\n",
    "    \"unperturbed\\nmodel stream\",\n",
    "    ha=\"left\",\n",
    "    va=\"center\",\n",
    "    fontsize=15,\n",
    "    color=\"#666666\",\n",
    ")\n",
    "axins.text(\n",
    "    x0 + 0.7 * b.to_value(u.kpc),  #  + 1.2 * h,\n",
    "    y0 + 2 * b.to_value(u.kpc),\n",
    "    \"subhalo\\norbit\",\n",
    "    ha=\"left\",\n",
    "    va=\"center\",\n",
    "    fontsize=12,\n",
    "    color=\"tab:purple\",\n",
    ")\n",
    "\n",
    "tmp = (R @ (np.array([0, 0.5, 0]) * b)).to_value(u.kpc)\n",
    "ang = -(90 * u.deg - np.arctan2(tmp[1], tmp[0]) * u.rad) - 3 * u.deg\n",
    "offset = 1.3 * b.to_value(u.kpc) * np.array([np.cos(ang), np.sin(ang)])\n",
    "axins.annotate(\n",
    "    \"$b$\",\n",
    "    (x0 + tmp[0], y0 + tmp[1]),\n",
    "    (x0 + tmp[0] + offset[0], y0 + tmp[1] + offset[1]),\n",
    "    arrowprops=dict(arrowstyle=\"-[\", lw=1.5, color=\"tab:green\", shrinkA=0, shrinkB=8),\n",
    "    zorder=1000,\n",
    "    color=\"tab:green\",\n",
    "    ha=\"center\",\n",
    ")\n",
    "\n",
    "# ---\n",
    "\n",
    "axes[1].set(\n",
    "    xlim=(-12, 12),\n",
    "    ylim=(-12, 12),\n",
    "    xlabel=\"stream orbital plane $y$ [kpc]\",\n",
    "    ylabel=\"stream orbital plane $z$ [kpc]\",\n",
    ")\n",
    "\n",
    "axins = axes[1].inset_axes([-11, 1, 10, 10], transform=axes[1].transData, zorder=100)\n",
    "axins.set(xlim=(y0 - h, y0 + h), ylim=(z0 - h, z0 + h))\n",
    "axins.xaxis.set_visible(False)\n",
    "axins.yaxis.set_visible(False)\n",
    "axes[1].indicate_inset_zoom(axins, edgecolor=\"tab:blue\")\n",
    "for k, sp in axins.spines.items():\n",
    "    sp.set_color(\"tab:blue\")\n",
    "\n",
    "for ax, ms in zip([axes[1], axins], [4, 10]):\n",
    "    ax.plot(\n",
    "        init_stream.y.to_value(u.kpc), init_stream.z.to_value(u.kpc), **stream_style\n",
    "    )\n",
    "    ax.plot(y0, z0, marker=\"x\", ms=ms, mew=2, color=\"tab:red\", zorder=50)\n",
    "    subhalo_orbit.plot([\"y\", \"z\"], axes=[ax], **subhalo_orbit_style)\n",
    "    subhalo_w0.plot([\"y\", \"z\"], axes=[ax], **subhalo_style)\n",
    "\n",
    "ax = axins\n",
    "ax.annotate(r\"$\\hat{z}_s$\", (y0, z0), (y0 + zhat[1], z0 + zhat[2]), **basis_style)\n",
    "ax.annotate(r\"$\\hat{x}_s$\", (y0, z0), (y0 + xhat[1], z0 + xhat[2]), **basis_style)\n",
    "\n",
    "fig.get_layout_engine().set(hspace=0.0, wspace=0.1)\n",
    "\n",
    "fig.savefig(\"../tex/figures/schematic.pdf\", dpi=200)"
   ]
  },
  {
   "cell_type": "markdown",
   "id": "91d4cd0d",
   "metadata": {},
   "source": [
    "---"
   ]
  },
  {
   "cell_type": "code",
   "execution_count": null,
   "id": "579567d2",
   "metadata": {},
   "outputs": [],
   "source": [
    "stream_sfr = get_in_stream_frame(init_stream, impact=impact_site, prog=init_prog[0])\n",
    "tracks = get_stream_track(stream_sfr, lon_lim=(-45, 45))"
   ]
  },
  {
   "cell_type": "code",
   "execution_count": null,
   "id": "b56c4f74",
   "metadata": {},
   "outputs": [],
   "source": [
    "plot_sky_projections(stream_sfr);"
   ]
  },
  {
   "cell_type": "code",
   "execution_count": null,
   "id": "067a2959",
   "metadata": {},
   "outputs": [],
   "source": [
    "plot_sky_projections(stream_sfr, tracks=tracks);"
   ]
  },
  {
   "cell_type": "code",
   "execution_count": null,
   "id": "4bdbc5fc",
   "metadata": {},
   "outputs": [],
   "source": []
  },
  {
   "cell_type": "code",
   "execution_count": null,
   "id": "c7641f39",
   "metadata": {},
   "outputs": [],
   "source": []
  }
 ],
 "metadata": {
  "kernelspec": {
   "display_name": "Python [conda env:root] *",
   "language": "python",
   "name": "conda-root-py"
  },
  "language_info": {
   "codemirror_mode": {
    "name": "ipython",
    "version": 3
   },
   "file_extension": ".py",
   "mimetype": "text/x-python",
   "name": "python",
   "nbconvert_exporter": "python",
   "pygments_lexer": "ipython3",
   "version": "3.10.4"
  },
  "toc": {
   "base_numbering": 1,
   "nav_menu": {},
   "number_sections": true,
   "sideBar": true,
   "skip_h1_title": false,
   "title_cell": "Table of Contents",
   "title_sidebar": "Contents",
   "toc_cell": false,
   "toc_position": {},
   "toc_section_display": true,
   "toc_window_display": false
  }
 },
 "nbformat": 4,
 "nbformat_minor": 5
}
