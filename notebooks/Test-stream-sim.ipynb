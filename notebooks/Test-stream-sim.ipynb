{
 "cells": [
  {
   "cell_type": "code",
   "execution_count": null,
   "id": "d92f3a2f",
   "metadata": {},
   "outputs": [],
   "source": [
    "import astropy.coordinates as coord\n",
    "import astropy.units as u\n",
    "import matplotlib as mpl\n",
    "import matplotlib.pyplot as plt\n",
    "\n",
    "%matplotlib inline\n",
    "import numpy as np\n",
    "\n",
    "# gala\n",
    "import gala.coordinates as gc\n",
    "import gala.dynamics as gd\n",
    "import gala.potential as gp\n",
    "from gala.units import galactic\n",
    "\n",
    "import sys\n",
    "\n",
    "if \"../scripts\" not in sys.path:\n",
    "    sys.path.append(\"../scripts\")\n",
    "from streamsubhalosim import (\n",
    "    get_in_stream_frame,\n",
    "    StreamSubhaloSimulation,\n",
    "    get_stream_track,\n",
    "    get_new_basis,\n",
    "    get_subhalo_w0,\n",
    ")\n",
    "from streamsubhaloplot import plot_sky_projections"
   ]
  },
  {
   "cell_type": "code",
   "execution_count": null,
   "id": "b123726e",
   "metadata": {},
   "outputs": [],
   "source": [
    "mw = gp.load('/Users/apricewhelan/projects/gaia-actions/potentials/MilkyWayPotential2022.yml')"
   ]
  },
  {
   "cell_type": "code",
   "execution_count": null,
   "id": "209b1f98",
   "metadata": {},
   "outputs": [],
   "source": [
    "dist = 20.\n",
    "pos = [-8, 0, 20] * u.kpc\n",
    "vcirc = mw.circular_velocity(pos)[0]\n",
    "wf = gd.PhaseSpacePosition(pos=pos, vel=[0, 1.3, 0] * vcirc)"
   ]
  },
  {
   "cell_type": "code",
   "execution_count": null,
   "id": "d8232841",
   "metadata": {},
   "outputs": [],
   "source": [
    "sim = StreamSubhaloSimulation(\n",
    "    mw_potential=mw,\n",
    "    final_prog_w=wf,\n",
    "    M_stream=5e4 * u.Msun,\n",
    "    t_post_impact=200 * u.Myr,\n",
    "    t_pre_impact=4 * u.Gyr,\n",
    "    dt=0.5 * u.Myr,\n",
    "    n_particles=2,\n",
    "    seed=42,\n",
    ")"
   ]
  },
  {
   "cell_type": "code",
   "execution_count": null,
   "id": "9e99fb76",
   "metadata": {},
   "outputs": [],
   "source": [
    "(init_stream, init_prog), (final_init_stream, _) = sim.run_init_stream()\n",
    "impact_site = sim.get_impact_site(init_stream, init_prog, prog_dist=10*u.kpc)"
   ]
  },
  {
   "cell_type": "code",
   "execution_count": null,
   "id": "f1feadf5",
   "metadata": {},
   "outputs": [],
   "source": [
    "fig = init_stream.plot();\n",
    "impact_site.plot(axes=fig.axes, autolim=False, color='r');"
   ]
  },
  {
   "cell_type": "code",
   "execution_count": null,
   "id": "a6b1fcbf",
   "metadata": {},
   "outputs": [],
   "source": [
    "M_subhalo = 5e7 * u.Msun\n",
    "c_subhalo = 1.005 * u.kpc * (M_subhalo / (1e8 * u.Msun)) ** 0.5 / 2.0  # MAGIC\n",
    "subhalo_potential = gp.HernquistPotential(m=M_subhalo, c=c_subhalo, units=galactic)"
   ]
  },
  {
   "cell_type": "code",
   "execution_count": null,
   "id": "8b482112",
   "metadata": {},
   "outputs": [],
   "source": [
    "b = c_subhalo * 0.5\n",
    "subhalo_w0 = get_subhalo_w0(\n",
    "    impact_site, b=b, phi=90 * u.deg, vphi=100 * u.km / u.s, vz=0 * u.km / u.s\n",
    ")\n",
    "subhalo_w0.frame = gp.StaticFrame(units=galactic)"
   ]
  },
  {
   "cell_type": "code",
   "execution_count": null,
   "id": "b0ecd54d",
   "metadata": {},
   "outputs": [],
   "source": [
    "subhalo_dv = np.linalg.norm(subhalo_w0.v_xyz - impact_site.v_xyz)\n",
    "subhalo_dx = np.max(u.Quantity([b, c_subhalo]))\n",
    "t_buffer_impact = np.round((32 * subhalo_dx / subhalo_dv).to(u.Myr), decimals=0)\n",
    "tmp_impact_dt = np.round((t_buffer_impact / 256).to(u.Myr), decimals=1)\n",
    "dt_factors = np.arange(1, 20, 1)\n",
    "dts = sim.dt / dt_factors\n",
    "\n",
    "dt_factor = dt_factors[np.abs(dts - tmp_impact_dt).argmin()]\n",
    "impact_dt = dts[np.abs(dts - tmp_impact_dt).argmin()]\n",
    "\n",
    "print(t_buffer_impact, impact_dt)"
   ]
  },
  {
   "cell_type": "code",
   "execution_count": null,
   "id": "5ebc97d5",
   "metadata": {},
   "outputs": [],
   "source": [
    "final_stream, _, final_prog, final_t = sim.run_perturbed_stream(\n",
    "    subhalo_w0, subhalo_potential, t_buffer_impact, impact_dt\n",
    ")"
   ]
  },
  {
   "cell_type": "code",
   "execution_count": null,
   "id": "720973f2",
   "metadata": {},
   "outputs": [],
   "source": [
    "sim.t_pre_impact, final_t"
   ]
  },
  {
   "cell_type": "code",
   "execution_count": null,
   "id": "e3fa2359",
   "metadata": {},
   "outputs": [],
   "source": [
    "final_impact_site = sim.H.integrate_orbit(\n",
    "    impact_site, dt=sim.dt, t1=sim.t_pre_impact, t2=final_t\n",
    ")"
   ]
  },
  {
   "cell_type": "code",
   "execution_count": null,
   "id": "23772496",
   "metadata": {},
   "outputs": [],
   "source": [
    "fig = final_stream.plot();\n",
    "final_impact_site[-1].plot(axes=fig.axes, autolim=False, color='r', marker='o');\n",
    "final_prog.plot(axes=fig.axes, autolim=False, color='g', marker='o');"
   ]
  },
  {
   "cell_type": "code",
   "execution_count": null,
   "id": "5cd7a955",
   "metadata": {},
   "outputs": [],
   "source": [
    "stream_sfr = get_in_stream_frame(\n",
    "    final_stream, prog=final_prog, impact=final_impact_site[-1]\n",
    ")\n",
    "init_stream_sfr = get_in_stream_frame(\n",
    "    final_init_stream, stream_frame=stream_sfr\n",
    ")\n",
    "tracks = get_stream_track(init_stream_sfr, lon_lim=(-45, 45))"
   ]
  },
  {
   "cell_type": "code",
   "execution_count": null,
   "id": "b56c4f74",
   "metadata": {},
   "outputs": [],
   "source": [
    "plot_sky_projections(stream_sfr);"
   ]
  },
  {
   "cell_type": "code",
   "execution_count": null,
   "id": "067a2959",
   "metadata": {},
   "outputs": [],
   "source": [
    "plot_sky_projections(stream_sfr, tracks=tracks);"
   ]
  },
  {
   "cell_type": "code",
   "execution_count": null,
   "id": "4bdbc5fc",
   "metadata": {},
   "outputs": [],
   "source": []
  },
  {
   "cell_type": "code",
   "execution_count": null,
   "id": "c7641f39",
   "metadata": {},
   "outputs": [],
   "source": []
  }
 ],
 "metadata": {
  "kernelspec": {
   "display_name": "base",
   "language": "python",
   "name": "python3"
  },
  "language_info": {
   "codemirror_mode": {
    "name": "ipython",
    "version": 3
   },
   "file_extension": ".py",
   "mimetype": "text/x-python",
   "name": "python",
   "nbconvert_exporter": "python",
   "pygments_lexer": "ipython3",
   "version": "3.10.4"
  },
  "toc": {
   "base_numbering": 1,
   "nav_menu": {},
   "number_sections": true,
   "sideBar": true,
   "skip_h1_title": false,
   "title_cell": "Table of Contents",
   "title_sidebar": "Contents",
   "toc_cell": false,
   "toc_position": {},
   "toc_section_display": true,
   "toc_window_display": false
  }
 },
 "nbformat": 4,
 "nbformat_minor": 5
}
