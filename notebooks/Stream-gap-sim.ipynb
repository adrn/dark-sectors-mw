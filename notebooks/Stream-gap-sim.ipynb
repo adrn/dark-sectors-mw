{
 "cells": [
  {
   "cell_type": "code",
   "execution_count": null,
   "id": "6a67995b",
   "metadata": {},
   "outputs": [],
   "source": [
    "import astropy.coordinates as coord\n",
    "import astropy.table as at\n",
    "import astropy.units as u\n",
    "import matplotlib as mpl\n",
    "import matplotlib.pyplot as plt\n",
    "%matplotlib inline\n",
    "import numpy as np\n",
    "from IPython import display\n",
    "from scipy.spatial import cKDTree\n",
    "\n",
    "# gala\n",
    "import gala.coordinates as gc\n",
    "import gala.dynamics as gd\n",
    "import gala.integrate as gi\n",
    "import gala.potential as gp\n",
    "from gala.units import galactic\n",
    "from gala.dynamics import mockstream as ms\n",
    "\n",
    "from scipy.interpolate import InterpolatedUnivariateSpline\n",
    "import imf\n",
    "\n",
    "import sys\n",
    "if '../scripts' not in sys.path:\n",
    "    sys.path.append('../scripts')\n",
    "from streamsubhalosim import get_in_stream_frame, StreamSubhaloSimulation"
   ]
  },
  {
   "cell_type": "code",
   "execution_count": null,
   "id": "59e2e31b",
   "metadata": {},
   "outputs": [],
   "source": [
    "mw = gp.load(\n",
    "    \"/mnt/home/apricewhelan/projects/gaia-actions/potentials/MilkyWayPotential2022.yml\"\n",
    ")"
   ]
  },
  {
   "cell_type": "code",
   "execution_count": null,
   "id": "4649b55b",
   "metadata": {},
   "outputs": [],
   "source": [
    "wf = gd.PhaseSpacePosition(pos=[15, 0.0, 0.0] * u.kpc, vel=[0, 275, 0] * u.km / u.s)\n",
    "orbit = mw.integrate_orbit(wf, dt=1.0, t1=0, t2=4 * u.Gyr)\n",
    "orbit.plot();\n"
   ]
  },
  {
   "cell_type": "code",
   "execution_count": null,
   "id": "9c688336",
   "metadata": {},
   "outputs": [],
   "source": [
    "sim = StreamSubhaloSimulation(\n",
    "    mw_potential=mw,\n",
    "    final_prog_w=wf,\n",
    "    M_stream=5e4 * u.Msun,\n",
    "    t_pre_impact=3 * u.Gyr,\n",
    "    t_post_impact=200 * u.Myr,\n",
    "    n_particles=1,\n",
    "    seed=42,\n",
    ")\n"
   ]
  },
  {
   "cell_type": "code",
   "execution_count": null,
   "id": "0e30eb3e",
   "metadata": {},
   "outputs": [],
   "source": [
    "init_stream, init_prog = sim.run_init_stream()\n",
    "impact_site = sim.get_impact_site(init_stream, init_prog)"
   ]
  },
  {
   "cell_type": "code",
   "execution_count": null,
   "id": "5e734d75",
   "metadata": {},
   "outputs": [],
   "source": [
    "stream_style = dict(marker=\"o\", ms=1.0, ls=\"none\", alpha=0.2, plot_function=plt.plot)\n",
    "fig = init_stream.plot(**stream_style)\n",
    "impact_site.plot(color=\"r\", axes=fig.axes, autolim=False, zorder=100);"
   ]
  },
  {
   "cell_type": "code",
   "execution_count": null,
   "id": "6021ae93",
   "metadata": {},
   "outputs": [],
   "source": [
    "derp = get_in_stream_frame(init_stream, prog=init_prog[0], impact=impact_site)"
   ]
  },
  {
   "cell_type": "code",
   "execution_count": null,
   "id": "0e180983",
   "metadata": {},
   "outputs": [],
   "source": [
    "plt.scatter(derp.phi1.degree, derp.phi2.degree)"
   ]
  },
  {
   "cell_type": "code",
   "execution_count": null,
   "id": "1c99b9d4",
   "metadata": {},
   "outputs": [],
   "source": []
  },
  {
   "cell_type": "code",
   "execution_count": null,
   "id": "9b591cdd",
   "metadata": {},
   "outputs": [],
   "source": [
    "import gala.coordinates as gc"
   ]
  },
  {
   "cell_type": "code",
   "execution_count": null,
   "id": "bb2c2a0b",
   "metadata": {},
   "outputs": [],
   "source": [
    "dir(gc.GreatCircleICRSFrame)"
   ]
  },
  {
   "cell_type": "code",
   "execution_count": null,
   "id": "71fc7b09",
   "metadata": {},
   "outputs": [],
   "source": []
  },
  {
   "cell_type": "code",
   "execution_count": null,
   "id": "261bc925",
   "metadata": {},
   "outputs": [],
   "source": [
    "xhat = impact_site.xyz / np.linalg.norm(impact_site.xyz)\n",
    "yhat = impact_site.v_xyz / np.linalg.norm(impact_site.v_xyz)\n",
    "xhat = xhat - xhat.dot(yhat) * yhat\n",
    "zhat = np.cross(xhat, yhat)\n",
    "R = np.stack((xhat, yhat, zhat)).T"
   ]
  },
  {
   "cell_type": "code",
   "execution_count": null,
   "id": "2d8e2509",
   "metadata": {},
   "outputs": [],
   "source": [
    "fig, ax = plt.subplots(1, 1, figsize=(6, 6), constrained_layout=True)\n",
    "fig = init_stream.plot(['x', 'y'], axes=[ax], **stream_style)\n",
    "impact_site.plot(['x', 'y'], axes=[ax], color=\"r\", autolim=False, zorder=100);\n",
    "\n",
    "for tmp in [xhat, yhat]:\n",
    "    ax.plot(\n",
    "        [impact_site.x.value, impact_site.x.value + tmp[0]],\n",
    "        [impact_site.y.value, impact_site.y.value + tmp[1]]\n",
    "    )\n",
    "ax.scatter([0], [0])\n",
    "\n",
    "xx = np.array([0., 1, 0])\n",
    "tmp = 3 * (R @ xx)\n",
    "ax.plot(\n",
    "    [impact_site.x.value, impact_site.x.value + tmp[0]],\n",
    "    [impact_site.y.value, impact_site.y.value + tmp[1]],\n",
    "    color='c'\n",
    ")"
   ]
  },
  {
   "cell_type": "code",
   "execution_count": null,
   "id": "ed3dab4e",
   "metadata": {},
   "outputs": [],
   "source": [
    "M_subhalo = 1e8 * u.Msun\n",
    "c_subhalo = 1.005 * u.kpc * (M_subhalo / (1e8 * u.Msun)) ** 0.5 / 2.0  # 1-sigma denser\n",
    "impact_v = 50 * u.pc/u.Myr\n",
    "impact_b = c_subhalo\n",
    "\n",
    "rng = np.random.default_rng(42)\n",
    "dxdv = (rng.normal(size=3), rng.normal(size=3))\n",
    "dx = dxdv[0] / np.linalg.norm(dxdv[0]) * impact_b\n",
    "dv = dxdv[1] / np.linalg.norm(dxdv[1]) * impact_v\n",
    "\n",
    "MAGIC = 32\n",
    "stream_after_impact, unpert_stream_post, prog_end = sim.run_perturbed_stream(\n",
    "    impact_site_w=impact_site,\n",
    "    subhalo_impact_dw=gd.PhaseSpacePosition(dx, dv),\n",
    "    subhalo_potential=gp.HernquistPotential(\n",
    "        m=M_subhalo, c=c_subhalo, units=galactic\n",
    "    ),\n",
    "    t_buffer_impact=np.round((MAGIC * c_subhalo / impact_v).to(u.Myr)),\n",
    "    impact_dt=np.round((c_subhalo / impact_v / MAGIC).to(u.Myr), decimals=2),\n",
    ")"
   ]
  },
  {
   "cell_type": "code",
   "execution_count": null,
   "id": "9de353cf",
   "metadata": {},
   "outputs": [],
   "source": [
    "stream_style = dict(marker=\"o\", ms=1.0, ls=\"none\", alpha=0.2, plot_function=plt.plot)\n",
    "fig = stream_after_impact.plot(**stream_style)\n",
    "impact_site.plot(color=\"r\", axes=fig.axes, autolim=False, zorder=100);\n",
    "prog_end.plot(color=\"b\", axes=fig.axes, autolim=False, zorder=100);"
   ]
  },
  {
   "cell_type": "code",
   "execution_count": null,
   "id": "aa53087c",
   "metadata": {},
   "outputs": [],
   "source": [
    "# self = sim\n",
    "\n",
    "# impact_site_w = impact_site\n",
    "# subhalo_impact_dw = gd.PhaseSpacePosition(dx, dv)\n",
    "# subhalo_potential = gp.HernquistPotential(\n",
    "#     m=M_subhalo, c=c_subhalo, units=galactic\n",
    "# )\n",
    "# t_buffer_impact = None\n",
    "# impact_dt = None\n",
    "\n",
    "# subhalo_v = np.linalg.norm(subhalo_impact_dw.v_xyz)\n",
    "# if t_buffer_impact is None:\n",
    "#     t_buffer_impact = np.round((1 * u.kpc / subhalo_v).to(u.Myr), decimals=1)\n",
    "# if impact_dt is None:\n",
    "#     impact_dt = (1.0 * u.pc / subhalo_v).to(u.Myr)\n",
    "\n",
    "# w_subhalo_impact = gd.PhaseSpacePosition(\n",
    "#     impact_site_w.xyz + subhalo_impact_dw.xyz,\n",
    "#     impact_site_w.v_xyz + subhalo_impact_dw.v_xyz,\n",
    "# )\n",
    "# w_subhalo_buffer = self.H.integrate_orbit(\n",
    "#     w_subhalo_impact,\n",
    "#     dt=-self.dt / 10,\n",
    "#     t1=t_buffer_impact,\n",
    "#     t2=0,\n",
    "#     Integrator=gi.Ruth4Integrator,\n",
    "#     store_all=False,\n",
    "# )[0]\n",
    "\n",
    "# stream_buffer_pre, prog_w_buffer_pre = self._mockstream_gen.run(\n",
    "#     self._prog_w0,\n",
    "#     self.M_stream,\n",
    "#     dt=self.dt,\n",
    "#     t1=0,\n",
    "#     t2=self.t_pre_impact - t_buffer_impact,\n",
    "#     **self._mockstream_kw,\n",
    "# )\n",
    "\n",
    "# tmp = gd.PhaseSpacePosition(\n",
    "#     stream_buffer_pre.pos, stream_buffer_pre.vel, frame=stream_buffer_pre.frame\n",
    "# )\n",
    "# nbody_w0 = gd.combine((w_subhalo_buffer, tmp))\n",
    "\n",
    "# null_potential = gp.NullPotential(units=galactic)\n",
    "# nbody = gd.DirectNBody(\n",
    "#     w0=nbody_w0,\n",
    "#     particle_potentials=[subhalo_potential] + [null_potential] * tmp.shape[0],\n",
    "#     external_potential=self.H.potential,\n",
    "#     frame=self.H.frame,\n",
    "#     save_all=False,\n",
    "# )\n",
    "\n",
    "# if (self.t_pre_impact + t_buffer_impact) > (\n",
    "#     self.t_pre_impact + self.t_post_impact\n",
    "# ):\n",
    "#     t2 = self.t_pre_impact + self.t_post_impact\n",
    "#     tf = np.nan\n",
    "# else:\n",
    "#     t2 = self.t_pre_impact + t_buffer_impact\n",
    "#     tf = self.t_pre_impact + self.t_post_impact\n",
    "\n",
    "# stream_impact = nbody.integrate_orbit(\n",
    "#     dt=impact_dt,\n",
    "#     t1=self.t_pre_impact - t_buffer_impact,\n",
    "#     t2=t2,\n",
    "# )\n",
    "# if not np.isnan(tf):\n",
    "#     stream_after_impact = self.H.integrate_orbit(\n",
    "#         stream_impact,\n",
    "#         dt=self.dt,\n",
    "#         t1=self.t_pre_impact + t_buffer_impact,\n",
    "#         t2=self.t_pre_impact + self.t_post_impact,\n",
    "#         Integrator=gi.Ruth4Integrator,\n",
    "#         store_all=False,\n",
    "#     )[0]\n",
    "# else:\n",
    "#     stream_after_impact = stream_impact\n",
    "\n",
    "# unpert_stream_post, _ = self._mockstream_gen.run(\n",
    "#     prog_w_buffer_pre[0],\n",
    "#     self.M_stream,\n",
    "#     dt=self.dt,\n",
    "#     t1=self.t_pre_impact - t_buffer_impact,\n",
    "#     t2=self.t_pre_impact + self.t_post_impact,\n",
    "#     **self._mockstream_kw,\n",
    "# )\n",
    "\n",
    "# w_impact_end = self.H.integrate_orbit(\n",
    "#     impact_site_w,\n",
    "#     dt=self.dt,\n",
    "#     t1=self.t_pre_impact,\n",
    "#     t2=self.t_pre_impact + self.t_post_impact,\n",
    "# )[-1]"
   ]
  },
  {
   "cell_type": "code",
   "execution_count": null,
   "id": "854dea42",
   "metadata": {},
   "outputs": [],
   "source": [
    "fig = stream_after_impact.plot(**stream_style);\n",
    "w_impact_end.plot(color=\"r\", axes=fig.axes, autolim=False, zorder=100);\n",
    "prog_end.plot(color=\"b\", axes=fig.axes, autolim=False, zorder=100);"
   ]
  },
  {
   "cell_type": "code",
   "execution_count": null,
   "id": "01b4d5a0",
   "metadata": {},
   "outputs": [],
   "source": []
  },
  {
   "cell_type": "code",
   "execution_count": null,
   "id": "8585eb2d",
   "metadata": {},
   "outputs": [],
   "source": []
  },
  {
   "cell_type": "code",
   "execution_count": null,
   "id": "9a5e5c04",
   "metadata": {},
   "outputs": [],
   "source": [
    "impact_site_w=rando_star\n",
    "subhalo_impact_dw=gd.PhaseSpacePosition(\n",
    "    [1., 0, 0] * impact_b,\n",
    "    [0, 0, 1.] * impact_v\n",
    ")\n",
    "subhalo_potential=gp.HernquistPotential(m=M_subhalo, c=c_subhalo, units=galactic)\n",
    "t_buffer_impact=np.round((32 * impact_b / impact_v).to(u.Myr))\n",
    "impact_dt=np.round((c_subhalo / impact_v / 32).to(u.Myr), decimals=2)"
   ]
  },
  {
   "cell_type": "code",
   "execution_count": null,
   "id": "ab127d4c",
   "metadata": {},
   "outputs": [],
   "source": [
    "subhalo_v = np.linalg.norm(subhalo_impact_dw.v_xyz)\n",
    "t_buffer_impact = np.round((1 * u.kpc / subhalo_v).to(u.Myr), decimals=1)\n",
    "impact_dt = (1. * u.pc / subhalo_v).to(u.Myr)\n",
    "\n",
    "w_subhalo_impact = gd.PhaseSpacePosition(\n",
    "    impact_site_w.xyz + subhalo_impact_dw.xyz,\n",
    "    impact_site_w.v_xyz + subhalo_impact_dw.v_xyz,\n",
    ")\n",
    "w_subhalo_buffer = self.H.integrate_orbit(\n",
    "    w_subhalo_impact,\n",
    "    dt=-self.dt / 10,\n",
    "    t1=t_buffer_impact,\n",
    "    t2=0,\n",
    "    Integrator=gi.Ruth4Integrator,\n",
    "    store_all=False,\n",
    ")[0]\n",
    "\n",
    "stream_buffer_pre, prog_w_buffer_pre = self._mockstream_gen.run(\n",
    "    self._prog_w0,\n",
    "    self.M_stream,\n",
    "    dt=self.dt,\n",
    "    t1=0,\n",
    "    t2=self.t_pre_impact - t_buffer_impact,\n",
    "    **self._mockstream_kw\n",
    ")"
   ]
  },
  {
   "cell_type": "code",
   "execution_count": null,
   "id": "35412ef6",
   "metadata": {},
   "outputs": [],
   "source": [
    "tmp = gd.PhaseSpacePosition(\n",
    "    stream_buffer_pre.pos, stream_buffer_pre.vel, frame=stream_buffer_pre.frame\n",
    ")\n",
    "nbody_w0 = gd.combine((w_subhalo_buffer, tmp))\n",
    "\n",
    "null_potential = gp.NullPotential(units=galactic)\n",
    "nbody = gd.DirectNBody(\n",
    "    w0=nbody_w0,\n",
    "    particle_potentials=[subhalo_potential] + [null_potential] * tmp.shape[0],\n",
    "    external_potential=self.H.potential,\n",
    "    frame=self.H.frame,\n",
    "    save_all=False,\n",
    ")\n",
    "stream_impact = nbody.integrate_orbit(\n",
    "    dt=impact_dt,\n",
    "    t1=self.t_pre_impact - t_buffer_impact,\n",
    "    t2=self.t_pre_impact + t_buffer_impact,\n",
    ")"
   ]
  },
  {
   "cell_type": "code",
   "execution_count": null,
   "id": "069a3e64",
   "metadata": {},
   "outputs": [],
   "source": [
    "stream_after_impact = self.H.integrate_orbit(\n",
    "    stream_impact,\n",
    "    dt=self.dt,\n",
    "    t1=self.t_pre_impact + t_buffer_impact,\n",
    "    t2=self.t_pre_impact + self.t_post_impact,\n",
    "    Integrator=gi.Ruth4Integrator,\n",
    "    store_all=False,\n",
    ")[0]\n",
    "\n",
    "unpert_stream_post, _ = self._mockstream_gen.run(\n",
    "    prog_w_buffer_pre[0],\n",
    "    self.M_stream,\n",
    "    dt=self.dt,\n",
    "    t1=self.t_pre_impact - t_buffer_impact,\n",
    "    t2=self.t_pre_impact + self.t_post_impact,\n",
    "    **self._mockstream_kw\n",
    ")\n",
    "\n",
    "w_impact_end = self.H.integrate_orbit(\n",
    "    impact_site_w,\n",
    "    dt=self.dt,\n",
    "    t1=self.t_pre_impact,\n",
    "    t2=self.t_pre_impact + self.t_post_impact,\n",
    ")\n"
   ]
  },
  {
   "cell_type": "code",
   "execution_count": null,
   "id": "bc356907",
   "metadata": {},
   "outputs": [],
   "source": [
    "stream_after_impact.plot(**stream_style);"
   ]
  },
  {
   "cell_type": "code",
   "execution_count": null,
   "id": "d81d4bce",
   "metadata": {},
   "outputs": [],
   "source": []
  },
  {
   "cell_type": "code",
   "execution_count": null,
   "id": "eea29b32",
   "metadata": {},
   "outputs": [],
   "source": [
    "d_stream = np.linalg.norm(stream.xyz - rando_star.xyz[:, None], axis=0)\n",
    "w_impact = gd.PhaseSpacePosition(\n",
    "    np.mean(stream.xyz[:, d_stream < 1 * u.kpc], axis=1),\n",
    "    np.mean(stream.v_xyz[:, d_stream < 1 * u.kpc], axis=1),\n",
    ")\n",
    "w_impact.plot([\"x\", \"y\"], color=\"c\", axes=fig.axes, autolim=False, zorder=100)\n"
   ]
  },
  {
   "cell_type": "code",
   "execution_count": null,
   "id": "7dbb8184",
   "metadata": {},
   "outputs": [],
   "source": [
    "dv_dir = np.array([1, 0, 0.0])\n",
    "# dv_dir = rng.normal(size=3)\n",
    "dv_dir /= np.linalg.norm(dv_dir)\n",
    "\n",
    "dx_dir = np.array([1.0, 0, 0.0])\n",
    "# dx_dir = rng.normal(size=3)\n",
    "# dx_dir /= np.linalg.norm(dx_dir)\n",
    "\n",
    "w_subhalo_impact = gd.PhaseSpacePosition(\n",
    "    pos=w_impact.xyz + dx_dir * impact_par,\n",
    "    vel=w_impact.v_xyz + dv_dir * subhalo_v,\n",
    ")\n",
    "w_subhalo_buffer = H.integrate_orbit(\n",
    "    w_subhalo_impact,\n",
    "    dt=-stream_dt / 10,\n",
    "    t1=0,\n",
    "    t2=-t_buffer_impact,\n",
    "    Integrator=gi.Ruth4Integrator,\n",
    "    store_all=False,\n",
    ")[0]\n"
   ]
  },
  {
   "cell_type": "code",
   "execution_count": null,
   "id": "bd1291dc",
   "metadata": {},
   "outputs": [],
   "source": []
  },
  {
   "cell_type": "markdown",
   "id": "c0a00f72",
   "metadata": {},
   "source": [
    "### Parameters"
   ]
  },
  {
   "cell_type": "code",
   "execution_count": null,
   "id": "4181ed2c",
   "metadata": {},
   "outputs": [],
   "source": [
    "M_stream = 5e4 * u.Msun\n",
    "\n",
    "M_subhalo = 5e6 * u.Msun\n",
    "c_subhalo = 1.005 * u.kpc * (M_subhalo / (1e8 * u.Msun)) ** 0.5 / 4.0  # 1-sigma\n",
    "subhalo_v = 50 * u.pc / u.Myr\n",
    "impact_par = c_subhalo\n",
    "\n",
    "t_buffer_impact = np.round((100 * u.pc / subhalo_v).to(u.Myr), decimals=1)\n",
    "impact_dt = np.round((1 * u.pc / subhalo_v).to(u.Myr), decimals=2)\n",
    "\n",
    "c_subhalo.to(u.pc)\n"
   ]
  },
  {
   "cell_type": "code",
   "execution_count": null,
   "id": "708b8cb4",
   "metadata": {},
   "outputs": [],
   "source": [
    "t_pre_impact = 3 * u.Gyr\n",
    "t_after_impact = 250 * u.Myr\n",
    "stream_dt = 0.2 * u.Myr\n",
    "release_every = 1\n",
    "n_particles = 4\n",
    "seed = 42\n"
   ]
  },
  {
   "cell_type": "code",
   "execution_count": null,
   "id": "90dba1ff",
   "metadata": {},
   "outputs": [],
   "source": [
    "movie_dt = 1 * u.Myr\n"
   ]
  },
  {
   "cell_type": "markdown",
   "id": "79898fb4",
   "metadata": {},
   "source": [
    "First, run the stream to know where stars end up in unperturbed case:"
   ]
  },
  {
   "cell_type": "code",
   "execution_count": null,
   "id": "5cb5f40d",
   "metadata": {},
   "outputs": [],
   "source": [
    "rng = np.random.default_rng(seed=seed)\n",
    "df = ms.FardalStreamDF(random_state=rng)\n",
    "gen = ms.MockStreamGenerator(df=df, hamiltonian=H)\n",
    "stream, prog_w = gen.run(\n",
    "    w0,\n",
    "    M_stream,\n",
    "    dt=stream_dt,\n",
    "    t1=0,\n",
    "    t2=t_pre_impact,\n",
    "    release_every=release_every,\n",
    "    n_particles=1,\n",
    "    progress=True,\n",
    ")\n"
   ]
  },
  {
   "cell_type": "code",
   "execution_count": null,
   "id": "e06389b1",
   "metadata": {},
   "outputs": [],
   "source": [
    "stream_style = dict(marker=\"o\", ms=1.0, ls=\"none\", alpha=0.2, plot_function=plt.plot)\n"
   ]
  },
  {
   "cell_type": "code",
   "execution_count": null,
   "id": "bb3faf7d",
   "metadata": {},
   "outputs": [],
   "source": [
    "rng = np.random.default_rng(seed=42)\n",
    "fig = stream.plot(**stream_style)\n",
    "rando_star_idx = rng.integers(stream.shape[0])\n",
    "rando_star = stream[rando_star_idx]\n",
    "rando_star.plot(color=\"r\", axes=fig.axes, autolim=False, zorder=100)\n",
    "\n",
    "d_stream = np.linalg.norm(stream.xyz - rando_star.xyz[:, None], axis=0)\n",
    "w_impact = gd.PhaseSpacePosition(\n",
    "    np.mean(stream.xyz[:, d_stream < 1 * u.kpc], axis=1),\n",
    "    np.mean(stream.v_xyz[:, d_stream < 1 * u.kpc], axis=1),\n",
    ")\n",
    "w_impact.plot([\"x\", \"y\"], color=\"c\", axes=fig.axes, autolim=False, zorder=100)\n"
   ]
  },
  {
   "cell_type": "code",
   "execution_count": null,
   "id": "fced90e2",
   "metadata": {},
   "outputs": [],
   "source": [
    "dv_dir = np.array([1, 0, 0.0])\n",
    "# dv_dir = rng.normal(size=3)\n",
    "dv_dir /= np.linalg.norm(dv_dir)\n",
    "\n",
    "dx_dir = np.array([1.0, 0, 0.0])\n",
    "# dx_dir = rng.normal(size=3)\n",
    "# dx_dir /= np.linalg.norm(dx_dir)\n",
    "\n",
    "w_subhalo_impact = gd.PhaseSpacePosition(\n",
    "    pos=w_impact.xyz + dx_dir * impact_par,\n",
    "    vel=w_impact.v_xyz + dv_dir * subhalo_v,\n",
    ")\n",
    "w_subhalo_buffer = H.integrate_orbit(\n",
    "    w_subhalo_impact,\n",
    "    dt=-stream_dt / 10,\n",
    "    t1=0,\n",
    "    t2=-t_buffer_impact,\n",
    "    Integrator=gi.Ruth4Integrator,\n",
    "    store_all=False,\n",
    ")[0]\n"
   ]
  },
  {
   "cell_type": "code",
   "execution_count": null,
   "id": "f26a6ee0",
   "metadata": {},
   "outputs": [],
   "source": [
    "rng = np.random.default_rng(seed=seed)\n",
    "df = ms.FardalStreamDF(random_state=rng)\n",
    "gen = ms.MockStreamGenerator(df=df, hamiltonian=H)\n",
    "stream_buffer_pre, prog_w_buffer_pre = gen.run(\n",
    "    w0,\n",
    "    M_stream,\n",
    "    dt=stream_dt,\n",
    "    t1=0,\n",
    "    t2=t_pre_impact - t_buffer_impact,\n",
    "    release_every=release_every,\n",
    "    n_particles=n_particles,\n",
    "    progress=False,\n",
    ")\n"
   ]
  },
  {
   "cell_type": "code",
   "execution_count": null,
   "id": "c0acf1fd",
   "metadata": {},
   "outputs": [],
   "source": [
    "stream_buffer_pre.plot(s=2.0, alpha=0.25)\n"
   ]
  },
  {
   "cell_type": "code",
   "execution_count": null,
   "id": "eb7b9152",
   "metadata": {},
   "outputs": [],
   "source": [
    "tmp = gd.PhaseSpacePosition(\n",
    "    stream_buffer_pre.pos, stream_buffer_pre.vel, frame=stream_buffer_pre.frame\n",
    ")\n",
    "nbody_w0 = gd.combine((w_subhalo_buffer, tmp))\n",
    "\n",
    "null_potential = gp.NullPotential(units=galactic)\n",
    "nbody = gd.DirectNBody(\n",
    "    w0=nbody_w0,\n",
    "    particle_potentials=[\n",
    "        gp.HernquistPotential(m=M_subhalo, c=c_subhalo, units=galactic)\n",
    "    ]\n",
    "    + [null_potential] * tmp.shape[0],\n",
    "    external_potential=H.potential,\n",
    "    frame=H.frame,\n",
    "    save_all=True,\n",
    ")\n",
    "stream_impact = nbody.integrate_orbit(\n",
    "    dt=impact_dt, t1=t_pre_impact - t_buffer_impact, t2=t_pre_impact + t_buffer_impact\n",
    ")\n"
   ]
  },
  {
   "cell_type": "code",
   "execution_count": null,
   "id": "ffb44d2c",
   "metadata": {},
   "outputs": [],
   "source": [
    "tmp = mw.integrate_orbit(\n",
    "    w_subhalo_buffer,\n",
    "    dt=-stream_dt,\n",
    "    t1=t_pre_impact - t_buffer_impact,\n",
    "    t2=0,\n",
    "    Integrator=gi.Ruth4Integrator,\n",
    ")\n",
    "\n",
    "subhalo_orbit = mw.integrate_orbit(\n",
    "    tmp[-1],\n",
    "    dt=stream_dt,\n",
    "    t1=0.0,\n",
    "    t2=t_pre_impact + t_after_impact,\n",
    "    Integrator=gi.Ruth4Integrator,\n",
    ")\n",
    "mask = np.isclose(subhalo_orbit.t % movie_dt, 0)\n",
    "subhalo_orbit_movie = subhalo_orbit[mask]\n"
   ]
  },
  {
   "cell_type": "code",
   "execution_count": null,
   "id": "712d4c2c",
   "metadata": {},
   "outputs": [],
   "source": [
    "stream_after_impact = mw.integrate_orbit(\n",
    "    stream_impact[-1],\n",
    "    dt=stream_dt,\n",
    "    t1=t_pre_impact + t_buffer_impact,\n",
    "    t2=t_pre_impact + t_after_impact,\n",
    "    Integrator=gi.Ruth4Integrator,\n",
    "    store_all=True,\n",
    ")\n"
   ]
  },
  {
   "cell_type": "code",
   "execution_count": null,
   "id": "2182e31d",
   "metadata": {},
   "outputs": [],
   "source": [
    "unpert_stream_post, _ = gen.run(\n",
    "    prog_w_buffer_pre[0],\n",
    "    M_stream,\n",
    "    dt=stream_dt,\n",
    "    t1=t_pre_impact - t_buffer_impact,\n",
    "    t2=t_pre_impact + t_after_impact,\n",
    "    release_every=release_every,\n",
    "    n_particles=n_particles,\n",
    "    progress=False,\n",
    "    #     output_every=1,\n",
    "    #     output_filename='../cache/tmp-stream-post.hdf5',\n",
    "    #     overwrite=True\n",
    ")\n"
   ]
  },
  {
   "cell_type": "code",
   "execution_count": null,
   "id": "012f7178",
   "metadata": {},
   "outputs": [],
   "source": [
    "w_impact_end = H.integrate_orbit(w_impact, dt=0.5 * u.Myr, t1=0, t2=t_after_impact)\n"
   ]
  },
  {
   "cell_type": "code",
   "execution_count": null,
   "id": "09c8df66",
   "metadata": {},
   "outputs": [],
   "source": [
    "fig, ax = plt.subplots(figsize=(8, 8))\n",
    "kw = dict(components=[\"x\", \"y\"], axes=[ax])\n",
    "fig = stream_after_impact[-1].plot(**stream_style, **kw)\n",
    "# unpert_stream_post.plot(**stream_style, zorder=100, **kw);\n",
    "w_impact_end[-1].plot(color=\"tab:red\", autolim=False, zorder=100, **kw)\n"
   ]
  },
  {
   "cell_type": "code",
   "execution_count": null,
   "id": "495f4694",
   "metadata": {},
   "outputs": [],
   "source": [
    "end_stream = stream_after_impact[-1]\n",
    "end_stream.shape[0]\n"
   ]
  },
  {
   "cell_type": "markdown",
   "id": "c51bd7a3",
   "metadata": {},
   "source": [
    "### Stellar population"
   ]
  },
  {
   "cell_type": "code",
   "execution_count": null,
   "id": "1ff35425",
   "metadata": {},
   "outputs": [],
   "source": [
    "iso = at.Table.read(\"/mnt/home/apricewhelan/data/isochrones/mist/FeH_-1.8_iso.fits\")\n",
    "iso = iso[np.isclose(iso[\"log10_isochrone_age_yr\"], 10.0)]\n"
   ]
  },
  {
   "cell_type": "code",
   "execution_count": null,
   "id": "a763876b",
   "metadata": {},
   "outputs": [],
   "source": [
    "imf_masses = imf.make_cluster(M_stream.value)  # , mmax=iso['initial_mass'].max())\n",
    "\n",
    "imf_mask = imf_masses < iso[\"initial_mass\"].max()\n",
    "imf_masses = imf_masses[imf_mask]\n",
    "imf_masses = rng.choice(imf_masses, size=end_stream.shape[0], replace=True)\n",
    "\n",
    "imf_masses.sum(), len(imf_masses)\n"
   ]
  },
  {
   "cell_type": "code",
   "execution_count": null,
   "id": "c8d9c1d1",
   "metadata": {},
   "outputs": [],
   "source": [
    "interp_mass2eep = InterpolatedUnivariateSpline(iso[\"initial_mass\"], iso[\"EEP\"], k=1)\n",
    "imf_eeps = interp_mass2eep(imf_masses)\n",
    "\n",
    "eep2mag_interps = {}\n",
    "for mag in [\"g\", \"r\", \"i\"]:\n",
    "    eep2mag_interps[mag] = InterpolatedUnivariateSpline(\n",
    "        iso[\"EEP\"], iso[f\"ps1_{mag}\"], k=1\n",
    "    )\n"
   ]
  },
  {
   "cell_type": "code",
   "execution_count": null,
   "id": "23d4fd0a",
   "metadata": {},
   "outputs": [],
   "source": [
    "phot = at.Table()\n",
    "for k, func in eep2mag_interps.items():\n",
    "    phot[f\"M_{k}\"] = func(imf_eeps)\n"
   ]
  },
  {
   "cell_type": "code",
   "execution_count": null,
   "id": "4205304d",
   "metadata": {},
   "outputs": [],
   "source": [
    "plt.plot(\n",
    "    phot[\"M_g\"] - phot[\"M_i\"], phot[\"M_r\"], marker=\"o\", ls=\"none\", ms=1.5, alpha=0.25\n",
    ")\n"
   ]
  },
  {
   "cell_type": "code",
   "execution_count": null,
   "id": "86fe1799",
   "metadata": {},
   "outputs": [],
   "source": [
    "stream_galcen = coord.Galactocentric(end_stream.data)\n",
    "stream_gal = stream_galcen.transform_to(coord.Galactic())\n",
    "\n",
    "perturb_end_galcen = coord.Galactocentric(w_impact_end[-1].data)\n",
    "perturb_end_gal = perturb_end_galcen.transform_to(coord.Galactic())\n",
    "\n",
    "stream_frame = coord.SkyOffsetFrame(origin=perturb_end_gal)\n",
    "\n",
    "stream_sfr = stream_gal.transform_to(stream_frame)\n"
   ]
  },
  {
   "cell_type": "code",
   "execution_count": null,
   "id": "ebe9264e",
   "metadata": {},
   "outputs": [],
   "source": [
    "for k in eep2mag_interps.keys():\n",
    "    phot[k] = phot[f\"M_{k}\"] + stream_gal.distance.distmod.value\n"
   ]
  },
  {
   "cell_type": "code",
   "execution_count": null,
   "id": "8e08654d",
   "metadata": {},
   "outputs": [],
   "source": [
    "plt.plot(phot[\"g\"] - phot[\"i\"], phot[\"r\"], marker=\"o\", ls=\"none\", ms=1.5, alpha=0.25)\n",
    "plt.xlim(-0.5, 3)\n",
    "plt.ylim(30, 12)\n"
   ]
  },
  {
   "cell_type": "code",
   "execution_count": null,
   "id": "9af9ac13",
   "metadata": {},
   "outputs": [],
   "source": [
    "plt.figure(figsize=(15, 4))\n",
    "plt.plot(\n",
    "    # stream_gal.l.wrap_at(180*u.deg).degree,\n",
    "    # stream_gal.b.degree,\n",
    "    stream_sfr.lon.wrap_at(180 * u.deg).degree,\n",
    "    stream_sfr.lat.degree,\n",
    "    marker=\"o\",\n",
    "    ls=\"none\",\n",
    "    ms=1.5,\n",
    "    alpha=0.25,\n",
    ")\n",
    "plt.xlim(-100, 100)\n",
    "plt.ylim(-5, 5)\n"
   ]
  },
  {
   "cell_type": "code",
   "execution_count": null,
   "id": "4dd91661",
   "metadata": {},
   "outputs": [],
   "source": [
    "xlim = (-25, 25)\n",
    "lon = stream_sfr.lon.wrap_at(180 * u.deg).degree\n",
    "_mask = (lon > xlim[0]) & (lon < xlim[1])\n",
    "\n",
    "# ---\n",
    "\n",
    "fig, axes = plt.subplots(5, 1, figsize=(16, 20), sharex=True, constrained_layout=True)\n",
    "\n",
    "ax = axes[0]\n",
    "\n",
    "comps = [\"lat\", \"distance\", \"pm_lon_coslat\", \"pm_lat\", \"radial_velocity\"]\n",
    "lims = [(-1, 1), None, None, (-0.2, 0), None]\n",
    "for ax, comp, lim in zip(axes, comps, lims):\n",
    "    ax.hist2d(\n",
    "        lon[_mask],\n",
    "        getattr(stream_sfr, comp).value[_mask],\n",
    "        bins=(np.linspace(*xlim, 256), 101),\n",
    "        norm=mpl.colors.LogNorm(vmin=0.1),\n",
    "        cmap=\"Greys\",\n",
    "    )\n",
    "    if lim is not None:\n",
    "        ax.set_ylim(lim)\n",
    "\n",
    "    ax.set_ylabel(comp)\n",
    "\n",
    "axes[-1].set(xlim=xlim, xlabel=\"longitude [deg]\")\n",
    "\n",
    "fig.suptitle(\"all simulated particles\", fontsize=22)\n"
   ]
  },
  {
   "cell_type": "code",
   "execution_count": null,
   "id": "c00e49cc",
   "metadata": {},
   "outputs": [],
   "source": [
    "_mask = (lon > xlim[0]) & (lon < xlim[1]) & (phot[\"g\"] < 22)\n",
    "\n",
    "# ---\n",
    "\n",
    "fig, axes = plt.subplots(5, 1, figsize=(16, 20), sharex=True, constrained_layout=True)\n",
    "\n",
    "ax = axes[0]\n",
    "\n",
    "comps = [\"lat\", \"distance\", \"pm_lon_coslat\", \"pm_lat\", \"radial_velocity\"]\n",
    "lims = [(-1, 1), None, None, (-0.2, 0), None]\n",
    "for ax, comp, lim in zip(axes, comps, lims):\n",
    "    ax.hist2d(\n",
    "        lon[_mask],\n",
    "        getattr(stream_sfr, comp).value[_mask],\n",
    "        bins=(np.linspace(*xlim, 256), 101),\n",
    "        norm=mpl.colors.LogNorm(vmin=0.1),\n",
    "        cmap=\"Greys\",\n",
    "    )\n",
    "    if lim is not None:\n",
    "        ax.set_ylim(lim)\n",
    "\n",
    "    ax.set_ylabel(comp)\n",
    "\n",
    "axes[-1].set(xlim=xlim, xlabel=\"longitude [deg]\")\n",
    "\n",
    "fig.suptitle(r\"surviving stars from $5\\times 10^4~{\\rm M}_\\odot$\", fontsize=22)\n"
   ]
  },
  {
   "cell_type": "code",
   "execution_count": null,
   "id": "1f7883eb",
   "metadata": {},
   "outputs": [],
   "source": []
  },
  {
   "cell_type": "code",
   "execution_count": null,
   "id": "bdc5a568",
   "metadata": {},
   "outputs": [],
   "source": []
  },
  {
   "cell_type": "code",
   "execution_count": null,
   "id": "9590a7f0",
   "metadata": {},
   "outputs": [],
   "source": []
  }
 ],
 "metadata": {
  "kernelspec": {
   "display_name": "apw-py310",
   "language": "python",
   "name": "apw-py310"
  },
  "language_info": {
   "codemirror_mode": {
    "name": "ipython",
    "version": 3
   },
   "file_extension": ".py",
   "mimetype": "text/x-python",
   "name": "python",
   "nbconvert_exporter": "python",
   "pygments_lexer": "ipython3",
   "version": "3.10.8"
  },
  "toc": {
   "base_numbering": 1,
   "nav_menu": {},
   "number_sections": true,
   "sideBar": true,
   "skip_h1_title": false,
   "title_cell": "Table of Contents",
   "title_sidebar": "Contents",
   "toc_cell": false,
   "toc_position": {},
   "toc_section_display": true,
   "toc_window_display": true
  }
 },
 "nbformat": 4,
 "nbformat_minor": 5
}
